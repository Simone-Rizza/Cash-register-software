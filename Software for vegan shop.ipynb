{
 "cells": [
  {
   "cell_type": "markdown",
   "id": "b2d333ec",
   "metadata": {},
   "source": [
    "HELP"
   ]
  },
  {
   "cell_type": "code",
   "execution_count": null,
   "id": "df065e72",
   "metadata": {},
   "outputs": [],
   "source": [
    "def show_commands():\n",
    "    \"\"\"\n",
    "    Shows the available commands.\n",
    "    \"\"\"\n",
    "    print(\"I comandi disponibili sono i seguenti:\\n\"\n",
    "          \"\\taggiungi: aggiungi un prodotto al magazzino\\n\"\n",
    "          \"\\telenca: elenca i prodotti in magazzino\\n\"\n",
    "          \"\\tvendita: registra una vendita effettuata\\n\"\n",
    "          \"\\tprofitti: mostra i profitti totali\\n\"\n",
    "          \"\\taiuto: mostra i possibili comandi\\n\"\n",
    "          \"\\tchiudi: esci dal programma\")"
   ]
  },
  {
   "cell_type": "markdown",
   "id": "ae327e61",
   "metadata": {},
   "source": [
    " ADD PRODUCTS"
   ]
  },
  {
   "cell_type": "code",
   "execution_count": null,
   "id": "0fb23490",
   "metadata": {},
   "outputs": [],
   "source": [
    "def add_to_warehouse():\n",
    "    \"\"\"\n",
    "    Adds a new product to the warehouse, if it is already present updates the amount.\n",
    "    \"\"\"\n",
    "    item_name = input(\"Nome del prodotto: \")\n",
    "    if check_item_presence(item_name) == True:\n",
    "        update_amount(item_name)\n",
    "    else:\n",
    "        add_new_item(item_name)"
   ]
  },
  {
   "cell_type": "code",
   "execution_count": null,
   "id": "bc3dcfaa",
   "metadata": {},
   "outputs": [],
   "source": [
    "def check_item_presence(item_name):\n",
    "    \"\"\"\n",
    "    Check if the product is already in stock.\n",
    "    \n",
    "    Arg:\n",
    "    item_name (str): Product's name.\n",
    "    \n",
    "    Return:\n",
    "    True (bool): The product is present.\n",
    "    False (bool): The product isn't present.\n",
    "    \"\"\"\n",
    "    with open(\"warehouse.json\") as json_file:\n",
    "        data = json.load(json_file)\n",
    "    if item_name in data:\n",
    "        return True\n",
    "    return False"
   ]
  },
  {
   "cell_type": "code",
   "execution_count": null,
   "id": "5f3a98e7",
   "metadata": {},
   "outputs": [],
   "source": [
    "def update_amount(item_name):\n",
    "    \"\"\"\n",
    "    Updates the amount of a product already in stock and prints the operation performed on the screen.\n",
    "    \n",
    "    Arg:\n",
    "    item_name (str): Product's name.\n",
    "    \"\"\"\n",
    "    print(\"Quantità:\")\n",
    "    amount_to_add = is_float()\n",
    "    with open(\"warehouse.json\") as json_file:\n",
    "        data = json.load(json_file)\n",
    "    prev_amount = data[item_name][\"amount\"]\n",
    "    data[item_name][\"amount\"] = prev_amount + amount_to_add\n",
    "    with open(\"warehouse.json\", \"w\") as json_file:\n",
    "        json.dump(data, json_file, indent=4, ensure_ascii=False)\n",
    "    print(f\"AGGIUNTO:{amount_to_add:.2f} X {item_name}\")"
   ]
  },
  {
   "cell_type": "code",
   "execution_count": null,
   "id": "9042c0a4",
   "metadata": {},
   "outputs": [],
   "source": [
    "def add_new_item(item_name):\n",
    "    \"\"\"\n",
    "    Asks amount, purchase and sell price of the item and adds it to the warehouse.\n",
    "    Prints the operation performed on the screen.\n",
    "    \n",
    "    Arg:\n",
    "    item_name (str): Product's name.\n",
    "    \"\"\"\n",
    "    print(\"Quantità:\")\n",
    "    amount = is_float()\n",
    "    print(\"Prezzo acquisto:\")\n",
    "    buy_price = is_float()\n",
    "    print(\"Prezzo vendita:\")\n",
    "    selling_price = is_float()\n",
    "\n",
    "    with open(\"warehouse.json\") as json_file:\n",
    "        data = json.load(json_file)\n",
    "    new_item = {\n",
    "        \"amount\": amount,\n",
    "        \"purchase price\": buy_price,\n",
    "        \"sell price\": selling_price\n",
    "    }\n",
    "    data[item_name] = new_item\n",
    "\n",
    "    with open(\"warehouse.json\", \"w\") as json_file:\n",
    "        json.dump(data, json_file, indent=4, ensure_ascii=False)\n",
    "    print(f\"AGGIUNTO:{amount:.2f} X {item_name}\")"
   ]
  },
  {
   "cell_type": "code",
   "execution_count": null,
   "id": "be6cf31e",
   "metadata": {},
   "outputs": [],
   "source": [
    "def is_float():\n",
    "    \"\"\"\n",
    "    Checks that the value entered by the user is a float and is greater than zero.\n",
    "    \n",
    "    Return:\n",
    "    amount (float): A valid value.\n",
    "    \"\"\"\n",
    "    validity = False\n",
    "    while validity == False:\n",
    "        try:\n",
    "            amount = float(input())\n",
    "            while amount <= 0:\n",
    "                print(\"Zero e valori negativi non sono ammessi. Riprova\")\n",
    "                amount = int(input())\n",
    "            validity = True\n",
    "        except:\n",
    "            print(\"Il valore inserito non è un numero! Riprova\")\n",
    "    return amount"
   ]
  },
  {
   "cell_type": "markdown",
   "id": "102ba59d",
   "metadata": {},
   "source": [
    "LIST PRODUCTS"
   ]
  },
  {
   "cell_type": "code",
   "execution_count": null,
   "id": "7c66ec5f",
   "metadata": {},
   "outputs": [],
   "source": [
    "def show_items():\n",
    "    \"\"\"\n",
    "    Print on-screen name/amount/price of products in the warehouse.\n",
    "    \"\"\"\n",
    "    print(\"PRODOTTO QUANTITA' PREZZO\")\n",
    "    with open(\"warehouse.json\") as json_file:\n",
    "        data = json.load(json_file)\n",
    "    for product, details in data.items():\n",
    "        print(f\"{product} {details['amount']:.2f} €{details['sell price']:.2f}\")"
   ]
  },
  {
   "cell_type": "markdown",
   "id": "90412d8d",
   "metadata": {},
   "source": [
    "SELL PRODUCTS"
   ]
  },
  {
   "cell_type": "code",
   "execution_count": null,
   "id": "477dfd30",
   "metadata": {},
   "outputs": [],
   "source": [
    "def sell_item():\n",
    "    \"\"\"\n",
    "    Records sales and keeps warehouse and balance up to date.\n",
    "    \"\"\"\n",
    "    another_item = True\n",
    "    items_list = []\n",
    "    purchase_prices_list = []\n",
    "    sell_prices_list = []\n",
    "    while another_item == True:\n",
    "        item_name = input(\"Nome del prodotto:\")\n",
    "        presence = check_item_presence(item_name)\n",
    "        if presence == False:\n",
    "            print(\"Questo prodotto non è presente in magazzino.\")\n",
    "        else:\n",
    "            print(\"Quantità:\")\n",
    "            item_amount = is_float()\n",
    "            price = read_price(item_name)\n",
    "            available_amount = read_available_amount(item_name)\n",
    "            availability = check_availability(item_amount, available_amount)\n",
    "            while availability != True:\n",
    "                answer = notify_and_ask(available_amount, item_name)\n",
    "                if answer == \"si\":\n",
    "                    print(\"Quantità:\")\n",
    "                    item_amount = is_float()\n",
    "                    availability = check_availability(item_amount, available_amount)\n",
    "                elif answer == \"no\":\n",
    "                    break\n",
    "            if availability == True:\n",
    "                record_sell(item_name, item_amount, sell_prices_list, purchase_prices_list)\n",
    "                add_to_items_list(item_name, item_amount, price, items_list)\n",
    "            else:\n",
    "                pass\n",
    "        another_item = ask_for_another()\n",
    "    total = print_sell(items_list, sell_prices_list)\n",
    "    add_to_gross_profit(total)\n",
    "    add_to_expenses(purchase_prices_list)\n",
    "    check_if_zero()"
   ]
  },
  {
   "cell_type": "code",
   "execution_count": null,
   "id": "e87643f5",
   "metadata": {},
   "outputs": [],
   "source": [
    "def read_price(item_name):\n",
    "    \"\"\"\n",
    "    Recover the product's selling price.\n",
    "    \n",
    "    Arg:\n",
    "    item_name (str): Product's name.\n",
    "    \n",
    "    Return:\n",
    "    price (float): Product's sell price.\n",
    "    \"\"\"\n",
    "    with open(\"warehouse.json\") as json_file:\n",
    "        data = json.load(json_file)\n",
    "    price = data[item_name][\"sell price\"]\n",
    "    return price"
   ]
  },
  {
   "cell_type": "code",
   "execution_count": null,
   "id": "b7bea4f5",
   "metadata": {},
   "outputs": [],
   "source": [
    "def read_available_amount(item_name):\n",
    "    \"\"\"\n",
    "    Recover the product's amount.\n",
    "    \n",
    "    Arg:\n",
    "    item_name (str): Product's name.\n",
    "    \n",
    "    Return:\n",
    "    available_amount (float): Product's available amount.\n",
    "    \"\"\"\n",
    "    with open(\"warehouse.json\") as json_file:\n",
    "        data = json.load(json_file)\n",
    "    available_amount = data[item_name][\"amount\"]\n",
    "    return available_amount"
   ]
  },
  {
   "cell_type": "code",
   "execution_count": null,
   "id": "d4741de2",
   "metadata": {},
   "outputs": [],
   "source": [
    "def check_availability(amount, available_amount):\n",
    "    \"\"\"\n",
    "    Check that the required amount is in stock.\n",
    "    \n",
    "    Args:\n",
    "    amount (float): amount entered by the user.\n",
    "    available_amount (float): amount available in stock.\n",
    "    \n",
    "    Return:\n",
    "    True (bool): amount available.\n",
    "    False (bool) amount not available.\n",
    "    \"\"\"\n",
    "    if amount > available_amount:\n",
    "        return False\n",
    "    else:\n",
    "        return True"
   ]
  },
  {
   "cell_type": "code",
   "execution_count": null,
   "id": "49a15968",
   "metadata": {},
   "outputs": [],
   "source": [
    "def notify_and_ask(available, item_name):\n",
    "    \"\"\"\n",
    "    Notifies that the requested quantity is not amount and asks if you want to try again.\n",
    "    \n",
    "    Arg:\n",
    "    available (float): amount available in stock.\n",
    "    item_name (str): Product's name.\n",
    "    \n",
    "    Return:\n",
    "    answer (str): user answer to the question.\n",
    "    \"\"\"\n",
    "    print(\"La quantità richiesta non è disponibile, \"\n",
    "        f\"sono disponibili {available:.2f} unità di {item_name}\")\n",
    "    answer = input(\"Vuoi riprovare?(si/no):\")\n",
    "    while answer != \"si\" and answer != \"no\":\n",
    "        print(f\"{answer} non è una risposta valida, puoi digitare solo si o no. Riprova:\")\n",
    "        answer = input()\n",
    "    return answer"
   ]
  },
  {
   "cell_type": "code",
   "execution_count": null,
   "id": "82ad2447",
   "metadata": {},
   "outputs": [],
   "source": [
    "def record_sell(item_name, amount, sell_prices_list, purchase_prices_list):\n",
    "    \"\"\"\n",
    "    Record a partial sale, save purchase price, sale price, and quantity in lists that will be useful later, \n",
    "    and update the inventory.\n",
    "    \n",
    "    Args:\n",
    "    item_name (str): Product's name.\n",
    "    amount (float): amount to sell.\n",
    "    sell_prices_list (list): list containing the selling prices of products.\n",
    "    purchase_prices_list (list): list containing the purchase prices of products.\n",
    "    \"\"\"\n",
    "    with open(\"warehouse.json\") as json_file:\n",
    "        data = json.load(json_file)\n",
    "    sell_price = data[item_name][\"sell price\"]\n",
    "    purchase_price = data[item_name][\"purchase price\"]\n",
    "    prev_amount = data[item_name][\"amount\"]\n",
    "    data[item_name][\"amount\"] = prev_amount - amount\n",
    "    total_sell_amount = amount * sell_price\n",
    "    total_purchase_amount = amount * purchase_price\n",
    "    sell_prices_list.append(total_sell_amount)\n",
    "    purchase_prices_list.append(total_purchase_amount)\n",
    "\n",
    "    with open(\"warehouse.json\", \"w\") as json_file:\n",
    "        json.dump(data, json_file, indent=4, ensure_ascii=False)"
   ]
  },
  {
   "cell_type": "code",
   "execution_count": null,
   "id": "f184ba97",
   "metadata": {},
   "outputs": [],
   "source": [
    "def add_to_items_list(item_name, amount, price, items_list):\n",
    "    \"\"\"\n",
    "    Adds the product and its details to the shopping cart.\n",
    "    \n",
    "    Args:\n",
    "    item_name (str): Product's name.\n",
    "    amount (float): amount to sell.\n",
    "    items_list (list): list containing tuples made by items names and their details.\n",
    "    \"\"\"\n",
    "    new_tuple = (amount, item_name, price)\n",
    "    items_list.append(new_tuple)"
   ]
  },
  {
   "cell_type": "code",
   "execution_count": null,
   "id": "148856fb",
   "metadata": {},
   "outputs": [],
   "source": [
    "def ask_for_another():\n",
    "    \"\"\"\n",
    "    Asks the user if he want to add another product.\n",
    "    \n",
    "    Return:\n",
    "    True (bool): user wants to add another product.\n",
    "    False (bool): user don't want to add another product.\n",
    "    \"\"\"\n",
    "    answer = input(\"Aggiungere un altro prodotto?(si/no):\")\n",
    "    while answer != \"si\" and answer != \"no\":\n",
    "        print(f\"{answer} non è una risposta valida, puoi digitare solo si o no. Riprova:\")\n",
    "        answer = input()\n",
    "    if answer == \"si\":\n",
    "        return True\n",
    "    elif answer == \"no\":\n",
    "        return False"
   ]
  },
  {
   "cell_type": "code",
   "execution_count": null,
   "id": "231b5255",
   "metadata": {},
   "outputs": [],
   "source": [
    "def print_sell(items_list, prices_list):\n",
    "    \"\"\"\n",
    "    Print the total sale summary.\n",
    "    \n",
    "    Args:\n",
    "    item_list (list): list containing tuples made by items names and their details.\n",
    "    prices_list (list): list containing the selling prices of products.\n",
    "    \n",
    "    Return:\n",
    "    total (float): Total amount to pay.\n",
    "    \"\"\"\n",
    "    print(\"VENDITA REGISTRATA\")\n",
    "    for items in items_list:\n",
    "        amount = items[0]\n",
    "        item_name = items[1]\n",
    "        price = items[2]\n",
    "        print(f\"{amount:.2f} X {item_name}: €{price:.2f}\")\n",
    "    total = calculate_total(prices_list)\n",
    "    print(f\"Totale: €{total:.2f}\")\n",
    "    return total"
   ]
  },
  {
   "cell_type": "code",
   "execution_count": null,
   "id": "784abf51",
   "metadata": {},
   "outputs": [],
   "source": [
    "def add_to_gross_profit(total):\n",
    "    \"\"\"\n",
    "    Adds total to gross profit.\n",
    "    \n",
    "    Arg:\n",
    "    total (float): Total amount payed by the customer.\n",
    "    \"\"\"\n",
    "    with open(\"balance.json\") as json_file:\n",
    "        data = json.load(json_file)\n",
    "    prev_gross_profit = data[\"gross profit\"]\n",
    "    data[\"gross profit\"] = prev_gross_profit + total\n",
    "    with open(\"balance.json\", \"w\") as json_file:\n",
    "        json.dump(data, json_file, indent=4, ensure_ascii=False)"
   ]
  },
  {
   "cell_type": "code",
   "execution_count": null,
   "id": "7216b337",
   "metadata": {},
   "outputs": [],
   "source": [
    "def calculate_total(prices_list):\n",
    "    \"\"\"\n",
    "    Sum all prices and calculate the total.\n",
    "    \n",
    "    Arg:\n",
    "    prices_list (list): list containing the selling prices of products.\n",
    "    \n",
    "    Return:\n",
    "    total (float): total prices sum.\n",
    "    \"\"\"\n",
    "    total = 0\n",
    "    for price in prices_list:\n",
    "        total += price\n",
    "    return total"
   ]
  },
  {
   "cell_type": "code",
   "execution_count": null,
   "id": "413967b7",
   "metadata": {},
   "outputs": [],
   "source": [
    "def add_to_expenses(purchase_prices_list):\n",
    "    \"\"\"\n",
    "    Sum purchase prices to update the expenses balance.\n",
    "    \n",
    "    Arg:\n",
    "    purchase_prices_list (list): list containing the purchase prices of products.\n",
    "    \"\"\"\n",
    "    total = calculate_total(purchase_prices_list)\n",
    "    with open(\"balance.json\") as json_file:\n",
    "        data = json.load(json_file)\n",
    "    prev_expenses = data[\"expenses\"]\n",
    "    data[\"expenses\"] = prev_expenses + total\n",
    "    with open(\"balance.json\", \"w\") as json_file:\n",
    "        json.dump(data, json_file, indent=4, ensure_ascii=False)"
   ]
  },
  {
   "cell_type": "code",
   "execution_count": null,
   "id": "3b1ca7f4",
   "metadata": {},
   "outputs": [],
   "source": [
    "def check_if_zero():\n",
    "    \"\"\"\n",
    "    Checks for items with zero amount in stock and removes them.\n",
    "    \"\"\"\n",
    "    with open(\"warehouse.json\") as json_file:\n",
    "        data = json.load(json_file)\n",
    "    item_to_remove = []\n",
    "    for item, details in data.items():\n",
    "        if details[\"amount\"] == 0:\n",
    "            item_to_remove.append(item)\n",
    "    for item in item_to_remove:\n",
    "        del data[item]\n",
    "    with open(\"warehouse.json\", \"w\") as json_file:\n",
    "        json.dump(data, json_file, indent=4, ensure_ascii=False)"
   ]
  },
  {
   "cell_type": "markdown",
   "id": "b679f80c",
   "metadata": {},
   "source": [
    "SHOW PROFITS"
   ]
  },
  {
   "cell_type": "code",
   "execution_count": null,
   "id": "496f0bf1",
   "metadata": {},
   "outputs": [],
   "source": [
    "def show_profits():\n",
    "    \"\"\"\n",
    "    Calculates gross and net profit and prints them on screen.\n",
    "    \"\"\"\n",
    "    with open(\"balance.json\") as json_file:\n",
    "        data = json.load(json_file)\n",
    "    gross_profit = data[\"gross profit\"]\n",
    "    expenses = data[\"expenses\"]\n",
    "    net_profit = gross_profit - expenses\n",
    "    data[\"net profit\"] = net_profit\n",
    "    with open(\"balance.json\", \"w\") as json_file:\n",
    "        json.dump(data, json_file, indent=4, ensure_ascii=False)\n",
    "    print(f\"Profitto: lordo = €{gross_profit:.2f} netto = €{net_profit:.2f}\")"
   ]
  },
  {
   "cell_type": "markdown",
   "id": "5e9791d8",
   "metadata": {},
   "source": [
    "COMMAND NOT VALID"
   ]
  },
  {
   "cell_type": "code",
   "execution_count": null,
   "id": "a9a69f78",
   "metadata": {},
   "outputs": [],
   "source": [
    "def wrong():\n",
    "    \"\"\"\n",
    "    Alert the user that the entered command is invalid and shows the available commands on the screen.\n",
    "    \"\"\"\n",
    "    print(\"Comando non valido.\")\n",
    "    show_commands()"
   ]
  },
  {
   "cell_type": "markdown",
   "id": "d327abd5",
   "metadata": {},
   "source": [
    "MAIN"
   ]
  },
  {
   "cell_type": "code",
   "execution_count": null,
   "id": "15353b63",
   "metadata": {},
   "outputs": [],
   "source": [
    "import json\n",
    "\n",
    "command = \"\"\n",
    "while command != \"chiudi\":\n",
    "    command = input(\"Inserisci un comando:\")\n",
    "    if command == \"aiuto\":\n",
    "        show_commands()\n",
    "    elif command == \"aggiungi\":\n",
    "        add_to_warehouse()\n",
    "    elif command == \"elenca\":\n",
    "        show_items()\n",
    "    elif command == \"vendita\":\n",
    "        sell_item()\n",
    "    elif command == \"profitti\":\n",
    "        show_profits()\n",
    "    elif command == \"chiudi\":\n",
    "        print(\"Bye Bye\")\n",
    "        exit(0)\n",
    "    else:\n",
    "        wrong()"
   ]
  },
  {
   "cell_type": "code",
   "execution_count": null,
   "id": "ecb46cc6",
   "metadata": {},
   "outputs": [],
   "source": []
  }
 ],
 "metadata": {
  "kernelspec": {
   "display_name": "Python 3 (ipykernel)",
   "language": "python",
   "name": "python3"
  },
  "language_info": {
   "codemirror_mode": {
    "name": "ipython",
    "version": 3
   },
   "file_extension": ".py",
   "mimetype": "text/x-python",
   "name": "python",
   "nbconvert_exporter": "python",
   "pygments_lexer": "ipython3",
   "version": "3.11.3"
  }
 },
 "nbformat": 4,
 "nbformat_minor": 5
}
